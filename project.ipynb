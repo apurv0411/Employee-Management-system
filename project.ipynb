{
 "cells": [
  {
   "cell_type": "code",
   "execution_count": null,
   "id": "05c1a4d2",
   "metadata": {},
   "outputs": [],
   "source": [
    "!pip install pymysql\n"
   ]
  },
  {
   "cell_type": "code",
   "execution_count": null,
   "id": "ce8aaafc",
   "metadata": {},
   "outputs": [],
   "source": [
    "import pandas as pd   \n",
    "import pymysql as s   \n",
    "import pandas.io.sql as sqlio\n",
    "import sys"
   ]
  },
  {
   "cell_type": "code",
   "execution_count": null,
   "id": "2721093c",
   "metadata": {},
   "outputs": [],
   "source": [
    "a=s.connect(db=\"data\",user=\"root\",password=\"\",port=3306,host=\"localhost\")"
   ]
  },
  {
   "cell_type": "code",
   "execution_count": null,
   "id": "de43d41a",
   "metadata": {},
   "outputs": [],
   "source": [
    "\n",
    "def menu():\n",
    "    b='y'\n",
    "    while (b=='y'):\n",
    "        print(\"........MENU.......\")\n",
    "        print (\"1. CREATE DATABASE\")\n",
    "        print (\"2.SHOW DATABASES\")\n",
    "        print (\"3.CREATE TABLE\")\n",
    "        print(\"4.SHOW TABLES\")\n",
    "        print (\"5. INSERT RECORD\")\n",
    "        print (\"6.UPDATE RECORD\")\n",
    "        print (\"7.DELETE RECORD\")\n",
    "        print (\"8. SEARCH RECORD\")\n",
    "        print(\"9. DISPLAY RECORD\")\n",
    "        print ()\n",
    "        choice=int(input(\"Enter the choice(1-9):\"))\n",
    "        if (choice==1):\n",
    "            create_database()\n",
    "        elif (choice ==2):\n",
    "            show_databases ()\n",
    "        elif (choice==3):\n",
    "            create_table()\n",
    "        elif (choice==4):\n",
    "            show_tables()\n",
    "        elif(choice==5):\n",
    "            insert_record()\n",
    "        elif (choice==6):\n",
    "            update_record ()\n",
    "        elif (choice ==7):\n",
    "            delete_record ()\n",
    "        elif (choice==8):\n",
    "            search_record()\n",
    "        elif (choice==9):\n",
    "            display_record()\n",
    "        else:\n",
    "            print(\"Wrong Choice.\")\n",
    "        b=input (\"Do you want more try? Press 'y' to continue...\")\n",
    "    else:\n",
    "        sys.exit()\n",
    "def create_database():\n",
    "    a=s.connect (host='localhost', user='root', passwd='', charset='utf8')\n",
    "    if a.connected():\n",
    "        print (\"Successfully Connected\")\n",
    "        cur=a.cursor()\n",
    "        cur.execute('create database if not exists employee')\n",
    "        print ()\n",
    "        print (\"Database Created\")\n",
    "        a.close()\n",
    "\n",
    "        \n",
    "        \n",
    "menu()\n"
   ]
  },
  {
   "cell_type": "code",
   "execution_count": null,
   "id": "f6d3a4e7",
   "metadata": {},
   "outputs": [],
   "source": [
    "def create_database():\n",
    "    a=driver.connect (host-'localhost', user='r oot', passwd='root', charset='utf8')\n",
    "    if a.is_connected():\n",
    "        print (\"Successfully Connected\")\n",
    "        cur=a.cursor()\n",
    "        cur.execute('create database if not exists employee')\n",
    "        print ()\n",
    "        print (\"Database Created\")\n",
    "        a.close()"
   ]
  },
  {
   "cell_type": "code",
   "execution_count": null,
   "id": "1fb4eddb",
   "metadata": {},
   "outputs": [],
   "source": []
  },
  {
   "cell_type": "code",
   "execution_count": null,
   "id": "67232de1",
   "metadata": {},
   "outputs": [],
   "source": []
  },
  {
   "cell_type": "code",
   "execution_count": null,
   "id": "f6decc49",
   "metadata": {},
   "outputs": [],
   "source": []
  }
 ],
 "metadata": {
  "kernelspec": {
   "display_name": "Python 3 (ipykernel)",
   "language": "python",
   "name": "python3"
  },
  "language_info": {
   "codemirror_mode": {
    "name": "ipython",
    "version": 3
   },
   "file_extension": ".py",
   "mimetype": "text/x-python",
   "name": "python",
   "nbconvert_exporter": "python",
   "pygments_lexer": "ipython3",
   "version": "3.9.12"
  }
 },
 "nbformat": 4,
 "nbformat_minor": 5
}
